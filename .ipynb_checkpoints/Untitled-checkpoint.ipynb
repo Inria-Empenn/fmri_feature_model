{
 "cells": [
  {
   "cell_type": "code",
   "execution_count": null,
   "id": "b4eda921-dadc-44c0-b470-f8d24492b201",
   "metadata": {},
   "outputs": [],
   "source": []
  }
 ],
 "metadata": {
  "kernelspec": {
   "display_name": "my-venv",
   "language": "python",
   "name": "my-venv"
  },
  "language_info": {
   "name": ""
  }
 },
 "nbformat": 4,
 "nbformat_minor": 5
}
